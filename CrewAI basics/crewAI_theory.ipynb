{
 "cells": [
  {
   "cell_type": "markdown",
   "id": "bcc02108",
   "metadata": {},
   "source": [
    "# ***CrewAI***\n",
    "\n",
    "- CrewAI is an open-source Python framework designed to build, manage, and orchestrate teams of AI agents—referred to as \"crews\"—that collaborate to perform complex tasks more efficiently than individual agents working alone.\n",
    "\n",
    "-  The framework enables developers to assign specific roles to each agent, facilitate communication between them, and automate workflows that can range from simple to highly intricate processe"
   ]
  },
  {
   "cell_type": "markdown",
   "id": "b3ff9053",
   "metadata": {},
   "source": [
    "### Key features of CrewAI include:\n",
    "\n",
    "- ***Role-based architecture***: Each AI agent is assigned a distinct role with defined capabilities and permissions, supporting modular and structured multi-agent systems\n",
    "\n",
    "- ***Agent orchestration*** : CrewAI provides tools to coordinate agent behaviors and workflows, ensuring agents work together seamlessly\n",
    "\n",
    "- ***Flexible communication***: Agents can exchange information through various channels, enabling effective collaboration\n",
    "\n",
    "- ***Tool integration***: Agents can interact with external tools, such as web search engines and language models, to gather information and act on objectives\n",
    "\n",
    "- ***Customizability***: CrewAI offers deep customization of workflows, agent behaviors, and integration with different language models (LLMs), including OpenAI and local models"
   ]
  },
  {
   "cell_type": "markdown",
   "id": "7db1ff92",
   "metadata": {},
   "source": [
    "| Feature/Aspect          | CrewAI                                                                                  | LangGraph                                                                                   |\n",
    "|------------------------|------------------------------------------------------------------------------------------|---------------------------------------------------------------------------------------------|\n",
    "| **Architecture**       | Role-based; agents have defined roles, goals, and tasks; modular and easy to customize   | Graph-based; workflows structured as nodes and edges; supports complex, multi-step logic    |\n",
    "| **Ease of Use**        | Beginner-friendly, quick setup, ideal for prototyping and small teams                    | Steeper learning curve; requires understanding of graph structures; better for engineers    |\n",
    "| **Workflow Style**     | Sequential or goal-driven; best for collaborative, team-oriented agent interactions      | Deterministic, structured; supports non-linear and cyclical workflows                       |\n",
    "| **Best For**           | Dynamic teamwork, human-AI collaboration, fast MVPs, conversational AI                   | Complex workflow orchestration, research, content generation, large-scale data analysis     |\n",
    "| **Scalability**        | Scalable, but best suited for smaller-scale or less complex deployments                  | Designed for large-scale, production environments with distributed computing                |\n",
    "| **Integration**        | Independent, but can integrate with LangChain and other tools                            | Built on top of LangChain; seamless integration with LangChain ecosystem                    |\n",
    "| **Customization**      | High-level abstraction; limited flexibility for very complex workflows                   | Low-level control; highly customizable for advanced workflow logic                          |\n",
    "| **Production Readiness** | Reliable, deterministic execution; good for production use-cases                         | Excellent for production, especially where workflow precision and persistence are required  |\n",
    "| **User Interface**     | User-friendly, minimal setup                                                             | Requires more engineering effort; less beginner-oriented                                    |\n",
    "| **Typical Use Cases**  | Project management, business process automation, team-based tasks, quick prototyping      | Research, complex decision-making, advanced data pipelines, software engineering            |\n",
    "| **Licensing**          | Open-source                                                                              | Open-source (built by LangChain team)                                                       |"
   ]
  },
  {
   "cell_type": "markdown",
   "id": "82724ac3",
   "metadata": {},
   "source": [
    "## ***AGENT CLASS***"
   ]
  },
  {
   "cell_type": "markdown",
   "id": "b552a35c",
   "metadata": {},
   "source": [
    "CrewAI Agent class, here are the key parameters you need to define:\n",
    "\n",
    "### ***Essential Parameters***\n",
    "\n",
    "- role - A clear, descriptive title for what the agent does (e.g., \"Data Analyst\", \"Content Writer\")\n",
    "- goal - What the agent is trying to achieve or accomplish\n",
    "- backstory - The agent's background, expertise, and context that shapes their behavior\n",
    "\n",
    "\n",
    "### ***Important Optional Parameters***\n",
    "\n",
    "- tools - List of tools/functions the agent can use to perform tasks\n",
    "- llm - The language model to use (defaults to OpenAI GPT-4 if not specified)\n",
    "- verbose - Boolean to control detailed output logging (default: False)\n",
    "- allow_delegation - Whether the agent can delegate tasks to other agents (default: True)\n",
    "- max_iter - Maximum number of iterations for task execution (default: 25)\n",
    "- memory - Enable the agent to remember previous interactions (default: False)\n",
    "- step_callback - Function to call after each step of execution\n",
    "- callbacks - List of callback functions for various events\n"
   ]
  },
  {
   "cell_type": "markdown",
   "id": "cdbb8ed4",
   "metadata": {},
   "source": [
    "``` python \n",
    "\n",
    "from crewai import Agent\n",
    "\n",
    "agent = Agent(\n",
    "    role=\"Senior Data Analyst\",\n",
    "    goal=\"Extract insights from complex datasets and provide actionable recommendations\",\n",
    "    backstory=\"You are an experienced data analyst with 10+ years in business intelligence...\",\n",
    "    tools=[data_analysis_tool, visualization_tool],\n",
    "    verbose=True,\n",
    "    allow_delegation=False,\n",
    "    max_iter=15\n",
    ")"
   ]
  },
  {
   "cell_type": "markdown",
   "id": "d71eee42",
   "metadata": {},
   "source": [
    "---"
   ]
  },
  {
   "cell_type": "markdown",
   "id": "6e19adbe",
   "metadata": {},
   "source": [
    "## ***TASK***"
   ]
  },
  {
   "cell_type": "markdown",
   "id": "5d8dd3ce",
   "metadata": {},
   "source": [
    "### Essential Parameters\n",
    "\n",
    "- description - Clear, detailed description of what the task involves and what needs to be accomplished\n",
    "- agent - The specific agent assigned to execute this task"
   ]
  },
  {
   "cell_type": "markdown",
   "id": "60df5647",
   "metadata": {},
   "source": [
    "### Important Optional Parameters\n",
    "- expected_output - Detailed description of what the output should look like, format, and content expectations\n",
    "- tools - List of specific tools available for this task (overrides agent's default tools)\n",
    "- async_execution - Boolean to run the task asynchronously (default: False)\n",
    "- context - List of other tasks whose outputs this task depends on\n",
    "- output_json - Pydantic model class for structured JSON output\n",
    "- output_pydantic - Pydantic model for structured output validation\n",
    "- output_file - File path to save the task output\n",
    "- callback - Function to call when the task completes\n",
    "- human_input - Boolean to request human input during task execution (default: False)"
   ]
  },
  {
   "cell_type": "markdown",
   "id": "60aae48c",
   "metadata": {},
   "source": []
  }
 ],
 "metadata": {
  "language_info": {
   "name": "python"
  }
 },
 "nbformat": 4,
 "nbformat_minor": 5
}
