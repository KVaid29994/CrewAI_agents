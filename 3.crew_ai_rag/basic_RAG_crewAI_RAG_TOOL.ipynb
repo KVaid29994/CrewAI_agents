{
  "nbformat": 4,
  "nbformat_minor": 0,
  "metadata": {
    "colab": {
      "provenance": []
    },
    "kernelspec": {
      "name": "python3",
      "display_name": "Python 3"
    },
    "language_info": {
      "name": "python"
    }
  },
  "cells": [
    {
      "cell_type": "code",
      "source": [
        "pip install crewai crewai_tools langchain langchain_community"
      ],
      "metadata": {
        "id": "wjZ4wQRqTUkC"
      },
      "execution_count": null,
      "outputs": []
    },
    {
      "cell_type": "code",
      "source": [
        "pip install langchain_openai"
      ],
      "metadata": {
        "colab": {
          "base_uri": "https://localhost:8080/"
        },
        "id": "sP3nKpAOUckz",
        "outputId": "379afe42-2894-49cf-b946-0250a5e0f879"
      },
      "execution_count": 4,
      "outputs": [
        {
          "output_type": "stream",
          "name": "stdout",
          "text": [
            "Requirement already satisfied: langchain_openai in /usr/local/lib/python3.11/dist-packages (0.2.14)\n",
            "Requirement already satisfied: langchain-core<0.4.0,>=0.3.27 in /usr/local/lib/python3.11/dist-packages (from langchain_openai) (0.3.67)\n",
            "Requirement already satisfied: openai<2.0.0,>=1.58.1 in /usr/local/lib/python3.11/dist-packages (from langchain_openai) (1.93.0)\n",
            "Requirement already satisfied: tiktoken<1,>=0.7 in /usr/local/lib/python3.11/dist-packages (from langchain_openai) (0.9.0)\n",
            "Requirement already satisfied: langsmith>=0.3.45 in /usr/local/lib/python3.11/dist-packages (from langchain-core<0.4.0,>=0.3.27->langchain_openai) (0.3.45)\n",
            "Requirement already satisfied: tenacity!=8.4.0,<10.0.0,>=8.1.0 in /usr/local/lib/python3.11/dist-packages (from langchain-core<0.4.0,>=0.3.27->langchain_openai) (8.5.0)\n",
            "Requirement already satisfied: jsonpatch<2.0,>=1.33 in /usr/local/lib/python3.11/dist-packages (from langchain-core<0.4.0,>=0.3.27->langchain_openai) (1.33)\n",
            "Requirement already satisfied: PyYAML>=5.3 in /usr/local/lib/python3.11/dist-packages (from langchain-core<0.4.0,>=0.3.27->langchain_openai) (6.0.2)\n",
            "Requirement already satisfied: packaging<25,>=23.2 in /usr/local/lib/python3.11/dist-packages (from langchain-core<0.4.0,>=0.3.27->langchain_openai) (24.2)\n",
            "Requirement already satisfied: typing-extensions>=4.7 in /usr/local/lib/python3.11/dist-packages (from langchain-core<0.4.0,>=0.3.27->langchain_openai) (4.14.0)\n",
            "Requirement already satisfied: pydantic>=2.7.4 in /usr/local/lib/python3.11/dist-packages (from langchain-core<0.4.0,>=0.3.27->langchain_openai) (2.11.7)\n",
            "Requirement already satisfied: anyio<5,>=3.5.0 in /usr/local/lib/python3.11/dist-packages (from openai<2.0.0,>=1.58.1->langchain_openai) (4.9.0)\n",
            "Requirement already satisfied: distro<2,>=1.7.0 in /usr/local/lib/python3.11/dist-packages (from openai<2.0.0,>=1.58.1->langchain_openai) (1.9.0)\n",
            "Requirement already satisfied: httpx<1,>=0.23.0 in /usr/local/lib/python3.11/dist-packages (from openai<2.0.0,>=1.58.1->langchain_openai) (0.28.1)\n",
            "Requirement already satisfied: jiter<1,>=0.4.0 in /usr/local/lib/python3.11/dist-packages (from openai<2.0.0,>=1.58.1->langchain_openai) (0.10.0)\n",
            "Requirement already satisfied: sniffio in /usr/local/lib/python3.11/dist-packages (from openai<2.0.0,>=1.58.1->langchain_openai) (1.3.1)\n",
            "Requirement already satisfied: tqdm>4 in /usr/local/lib/python3.11/dist-packages (from openai<2.0.0,>=1.58.1->langchain_openai) (4.67.1)\n",
            "Requirement already satisfied: regex>=2022.1.18 in /usr/local/lib/python3.11/dist-packages (from tiktoken<1,>=0.7->langchain_openai) (2024.11.6)\n",
            "Requirement already satisfied: requests>=2.26.0 in /usr/local/lib/python3.11/dist-packages (from tiktoken<1,>=0.7->langchain_openai) (2.32.3)\n",
            "Requirement already satisfied: idna>=2.8 in /usr/local/lib/python3.11/dist-packages (from anyio<5,>=3.5.0->openai<2.0.0,>=1.58.1->langchain_openai) (3.10)\n",
            "Requirement already satisfied: certifi in /usr/local/lib/python3.11/dist-packages (from httpx<1,>=0.23.0->openai<2.0.0,>=1.58.1->langchain_openai) (2025.6.15)\n",
            "Requirement already satisfied: httpcore==1.* in /usr/local/lib/python3.11/dist-packages (from httpx<1,>=0.23.0->openai<2.0.0,>=1.58.1->langchain_openai) (1.0.9)\n",
            "Requirement already satisfied: h11>=0.16 in /usr/local/lib/python3.11/dist-packages (from httpcore==1.*->httpx<1,>=0.23.0->openai<2.0.0,>=1.58.1->langchain_openai) (0.16.0)\n",
            "Requirement already satisfied: jsonpointer>=1.9 in /usr/local/lib/python3.11/dist-packages (from jsonpatch<2.0,>=1.33->langchain-core<0.4.0,>=0.3.27->langchain_openai) (3.0.0)\n",
            "Requirement already satisfied: orjson<4.0.0,>=3.9.14 in /usr/local/lib/python3.11/dist-packages (from langsmith>=0.3.45->langchain-core<0.4.0,>=0.3.27->langchain_openai) (3.10.18)\n",
            "Requirement already satisfied: requests-toolbelt<2.0.0,>=1.0.0 in /usr/local/lib/python3.11/dist-packages (from langsmith>=0.3.45->langchain-core<0.4.0,>=0.3.27->langchain_openai) (1.0.0)\n",
            "Requirement already satisfied: zstandard<0.24.0,>=0.23.0 in /usr/local/lib/python3.11/dist-packages (from langsmith>=0.3.45->langchain-core<0.4.0,>=0.3.27->langchain_openai) (0.23.0)\n",
            "Requirement already satisfied: annotated-types>=0.6.0 in /usr/local/lib/python3.11/dist-packages (from pydantic>=2.7.4->langchain-core<0.4.0,>=0.3.27->langchain_openai) (0.7.0)\n",
            "Requirement already satisfied: pydantic-core==2.33.2 in /usr/local/lib/python3.11/dist-packages (from pydantic>=2.7.4->langchain-core<0.4.0,>=0.3.27->langchain_openai) (2.33.2)\n",
            "Requirement already satisfied: typing-inspection>=0.4.0 in /usr/local/lib/python3.11/dist-packages (from pydantic>=2.7.4->langchain-core<0.4.0,>=0.3.27->langchain_openai) (0.4.1)\n",
            "Requirement already satisfied: charset-normalizer<4,>=2 in /usr/local/lib/python3.11/dist-packages (from requests>=2.26.0->tiktoken<1,>=0.7->langchain_openai) (3.4.2)\n",
            "Requirement already satisfied: urllib3<3,>=1.21.1 in /usr/local/lib/python3.11/dist-packages (from requests>=2.26.0->tiktoken<1,>=0.7->langchain_openai) (2.4.0)\n"
          ]
        }
      ]
    },
    {
      "cell_type": "code",
      "source": [
        "import os\n",
        "\n",
        "# Set your API key securely (use your actual key here)\n",
        "os.environ[\"OPENAI_API_KEY\"] = \"\""
      ],
      "metadata": {
        "id": "c3X5Sq4-UgM3"
      },
      "execution_count": 19,
      "outputs": []
    },
    {
      "cell_type": "code",
      "source": [
        "from crewai_tools import RagTool\n",
        "rag_tool = RagTool()\n",
        "\n",
        "\n",
        "# Add a PDF file\n",
        "rag_tool.add(\"/content/GEN_AI.pdf\", \"pdf_file\")\n"
      ],
      "metadata": {
        "colab": {
          "base_uri": "https://localhost:8080/"
        },
        "id": "0qAQkKaVTZ_7",
        "outputId": "c42bc809-f923-4ec5-d155-239c69dbd93e"
      },
      "execution_count": 20,
      "outputs": [
        {
          "output_type": "stream",
          "name": "stderr",
          "text": [
            "/usr/local/lib/python3.11/dist-packages/alembic/config.py:577: DeprecationWarning: No path_separator found in configuration; falling back to legacy splitting on spaces, commas, and colons for prepend_sys_path.  Consider adding path_separator=os to Alembic config.\n",
            "  util.warn_deprecated(\n"
          ]
        }
      ]
    },
    {
      "cell_type": "code",
      "source": [
        "agents_config = {\n",
        "    \"knowledge_expert\": {\n",
        "        \"name\": \"Knowledge Expert\",\n",
        "        \"role\": \"Answer questions using a PDF on Generative AI\",\n",
        "        \"goal\": \"Help the user understand Generative AI concepts\",\n",
        "        \"backstory\": \"An expert in AI who reads and answers from PDFs\"\n",
        "    }\n",
        "}"
      ],
      "metadata": {
        "id": "VKYMdFK3V6nP"
      },
      "execution_count": 21,
      "outputs": []
    },
    {
      "cell_type": "code",
      "source": [
        "from crewai import Agent, Task\n",
        "from crewai.project import agent\n",
        "\n",
        "knowledge_expert = Agent(\n",
        "    name=\"Knowledge Expert\",\n",
        "    role=\"Answer questions about Generative AI using a PDF document\",\n",
        "    goal=\"Provide helpful and accurate information from the document\",\n",
        "    backstory=\"You are an AI trained to extract and summarize insights from academic PDFs.\",\n",
        "    tools=[rag_tool],\n",
        "    allow_delegation=False\n",
        ")"
      ],
      "metadata": {
        "id": "EFncG1NJUOJp"
      },
      "execution_count": 30,
      "outputs": []
    },
    {
      "cell_type": "code",
      "source": [
        "task = Task(\n",
        "    description=\"Answer the question:'{question}'?\",\n",
        "    agent=knowledge_expert,\n",
        "    expected_output=\"A brief explanation of key concepts in Generative AI from the PDF.\"\n",
        ")\n",
        "\n",
        "from crewai import Crew, Process\n",
        "\n",
        "crew = Crew(\n",
        "    agents=[knowledge_expert],\n",
        "    tasks=[task],\n",
        "    process=Process.sequential  # fine here since only one task\n",
        ")"
      ],
      "metadata": {
        "id": "9nEuldeSWlkd"
      },
      "execution_count": 31,
      "outputs": []
    },
    {
      "cell_type": "code",
      "source": [
        "# Run the crew\n",
        "crew = Crew(\n",
        "    agents=[knowledge_expert],\n",
        "    tasks=[task],\n",
        "    process=Process.sequential\n",
        ")"
      ],
      "metadata": {
        "id": "mb7ps5piWoUD"
      },
      "execution_count": 32,
      "outputs": []
    },
    {
      "cell_type": "code",
      "source": [
        "result = crew.kickoff(inputs = {\"question\" : \"What are the question 1 , 2 and 3?\"})\n",
        "print(result, sep = \" \")"
      ],
      "metadata": {
        "colab": {
          "base_uri": "https://localhost:8080/"
        },
        "id": "mdsWi7NhYIRQ",
        "outputId": "c2652a38-af97-4a13-d814-625b4c1a6394"
      },
      "execution_count": 34,
      "outputs": [
        {
          "output_type": "stream",
          "name": "stderr",
          "text": [
            "/usr/local/lib/python3.11/dist-packages/chromadb/types.py:144: PydanticDeprecatedSince211: Accessing the 'model_fields' attribute on the instance is deprecated. Instead, you should access this attribute from the model class. Deprecated in Pydantic V2.11 to be removed in V3.0.\n",
            "  return self.model_fields  # pydantic 2.x\n"
          ]
        },
        {
          "output_type": "stream",
          "name": "stdout",
          "text": [
            "1. What is Generative AI and how does it differ from traditional AI? Answer: Generative AI refers to artificial intelligence systems that can create new content, including text, images, code, and other media, based on patterns learned from training data. Unlike traditional AI that typically classifies or predicts based on existing data, GenAI uses transformer architectures and large language models to generate novel outputs. Key differences include: Creative capability: GenAI can produce original content rather than just analyze existing data. Architecture: Uses transformer models with attention mechanisms vs. traditional rule-based or statistical models. Training approach: Trained on massive datasets using unsupervised learning techniques. Applications: Content creation, code generation, conversational AI vs. classification, regression, or optimization.\n",
            "\n",
            "2. What are the main challenges in deploying GenAI in enterprise environments? Answer: Key challenges include: Data privacy & security: Protecting sensitive information from model exposure. Governance & compliance: Meeting regulatory requirements and audit standards. Integration complexity: Connecting with existing enterprise systems and workflows. Cost management: Optimizing inference costs and resource utilization. Performance consistency: Ensuring reliable output quality and response times. Hallucination management: Preventing AI from generating false information. Change management: Training users and managing organizational adoption. Scalability: Handling enterprise-scale workloads and concurrent users.\n",
            "\n",
            "3. What are the key considerations for GenAI model selection? Answer: Model selection criteria: Performance requirements: Accuracy, speed, and output quality needs. Cost constraints: Training, inference, and infrastructure costs. Data requirements: Training data availability and quality. Deployment environment: Cloud, on-premises, or hybrid requirements. Compliance needs: Regulatory and security requirements. Scalability: Ability to handle expected load and growth. Customization needs: Fine-tuning capabilities and flexibility. Vendor ecosystem: Support, updates, and long-term viability.\n"
          ]
        }
      ]
    },
    {
      "cell_type": "code",
      "source": [
        "while True:\n",
        "  user_input = input(\"Ask a question regarding the PDF: \")\n",
        "  if (user_input in (\"end\")):\n",
        "    break\n",
        "  else:\n",
        "    result = crew.kickoff(inputs = {\"question\" : user_input})\n",
        "    print(result, sep = \" \")"
      ],
      "metadata": {
        "colab": {
          "base_uri": "https://localhost:8080/"
        },
        "id": "f4gHqGwUYbU6",
        "outputId": "9b76463e-f7d4-49db-8f01-2dbc161e3709"
      },
      "execution_count": 35,
      "outputs": [
        {
          "name": "stdout",
          "output_type": "stream",
          "text": [
            "Ask a question regarding the PDF: what is the first question?\n"
          ]
        },
        {
          "output_type": "stream",
          "name": "stderr",
          "text": [
            "/usr/local/lib/python3.11/dist-packages/chromadb/types.py:144: PydanticDeprecatedSince211: Accessing the 'model_fields' attribute on the instance is deprecated. Instead, you should access this attribute from the model class. Deprecated in Pydantic V2.11 to be removed in V3.0.\n",
            "  return self.model_fields  # pydantic 2.x\n",
            "/usr/local/lib/python3.11/dist-packages/chromadb/types.py:144: PydanticDeprecatedSince211: Accessing the 'model_fields' attribute on the instance is deprecated. Instead, you should access this attribute from the model class. Deprecated in Pydantic V2.11 to be removed in V3.0.\n",
            "  return self.model_fields  # pydantic 2.x\n"
          ]
        },
        {
          "name": "stdout",
          "output_type": "stream",
          "text": [
            "The first question in the document is, \"SCENARIO: A Fortune 500 retail client wants to implement GenAI for personalized marketing. How would you approach this project?\"\n",
            "Ask a question regarding the PDF: how many questions are there in the pdf?\n"
          ]
        },
        {
          "output_type": "stream",
          "name": "stderr",
          "text": [
            "/usr/local/lib/python3.11/dist-packages/chromadb/types.py:144: PydanticDeprecatedSince211: Accessing the 'model_fields' attribute on the instance is deprecated. Instead, you should access this attribute from the model class. Deprecated in Pydantic V2.11 to be removed in V3.0.\n",
            "  return self.model_fields  # pydantic 2.x\n",
            "/usr/local/lib/python3.11/dist-packages/chromadb/types.py:144: PydanticDeprecatedSince211: Accessing the 'model_fields' attribute on the instance is deprecated. Instead, you should access this attribute from the model class. Deprecated in Pydantic V2.11 to be removed in V3.0.\n",
            "  return self.model_fields  # pydantic 2.x\n",
            "/usr/local/lib/python3.11/dist-packages/chromadb/types.py:144: PydanticDeprecatedSince211: Accessing the 'model_fields' attribute on the instance is deprecated. Instead, you should access this attribute from the model class. Deprecated in Pydantic V2.11 to be removed in V3.0.\n",
            "  return self.model_fields  # pydantic 2.x\n"
          ]
        },
        {
          "name": "stdout",
          "output_type": "stream",
          "text": [
            "There are 30 comprehensive questions in the PDF about Generative AI.\n",
            "Ask a question regarding the PDF: end\n"
          ]
        }
      ]
    },
    {
      "cell_type": "code",
      "source": [],
      "metadata": {
        "id": "hV9HweFuY-4I"
      },
      "execution_count": null,
      "outputs": []
    }
  ]
}